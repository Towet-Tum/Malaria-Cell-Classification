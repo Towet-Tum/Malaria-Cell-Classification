{
 "cells": [
  {
   "cell_type": "code",
   "execution_count": 1,
   "metadata": {},
   "outputs": [
    {
     "data": {
      "text/plain": [
       "'/home/towet/Desktop/Visions/OpenProjects/Malaria-Cell-Classification/research'"
      ]
     },
     "execution_count": 1,
     "metadata": {},
     "output_type": "execute_result"
    }
   ],
   "source": [
    "import os\n",
    "%pwd"
   ]
  },
  {
   "cell_type": "code",
   "execution_count": 2,
   "metadata": {},
   "outputs": [],
   "source": [
    "os.chdir('../')"
   ]
  },
  {
   "cell_type": "code",
   "execution_count": 26,
   "metadata": {},
   "outputs": [
    {
     "data": {
      "text/plain": [
       "'/home/towet/Desktop/Visions/OpenProjects/Malaria-Cell-Classification'"
      ]
     },
     "execution_count": 26,
     "metadata": {},
     "output_type": "execute_result"
    }
   ],
   "source": [
    "%pwd"
   ]
  },
  {
   "cell_type": "code",
   "execution_count": 27,
   "metadata": {},
   "outputs": [],
   "source": [
    "from dataclasses import dataclass\n",
    "from pathlib import Path\n",
    "\n",
    "@dataclass(frozen=True)\n",
    "class TrainingConfig:\n",
    "    root_dir: Path \n",
    "    model_path: Path \n",
    "    epochs: int\n",
    "    batch_size: int\n",
    "    lr: float \n",
    "    imgsz: int \n",
    "    include_top: bool \n",
    "    weights: str\n",
    "    dataset: Path"
   ]
  },
  {
   "cell_type": "code",
   "execution_count": 5,
   "metadata": {},
   "outputs": [],
   "source": [
    "from MalariaClassifier.constants import *\n",
    "from MalariaClassifier.utils.common import read_yaml, create_directories"
   ]
  },
  {
   "cell_type": "code",
   "execution_count": 28,
   "metadata": {},
   "outputs": [],
   "source": [
    "class ConfigurationManager:\n",
    "    def __init__(self, \n",
    "                 config_file_path = CONFIG_FILE_PATH,\n",
    "                 params_file_path = PARAMS_FILE_PATH):\n",
    "        self.config = read_yaml(config_file_path)\n",
    "        self.params = read_yaml(params_file_path)\n",
    "\n",
    "        create_directories([self.config.artifacts_root])\n",
    "\n",
    "    def get_training_config(self) -> TrainingConfig:\n",
    "        config = self.config.training \n",
    "        params = self.params \n",
    "        dataset = os.path.join(\"artifacts\", \"data_ingestion\", \"dataset\")\n",
    "        create_directories([config.root_dir])\n",
    "        training_config = TrainingConfig(\n",
    "            root_dir=config.root_dir,\n",
    "            model_path=config.model_path,\n",
    "            epochs=params.EPOCHS,\n",
    "            imgsz=params.IMG_SIZE,\n",
    "            batch_size=params.BATCH_SIZE,\n",
    "            weights=params.WEIGHTS,\n",
    "            include_top=params.INCLUDE_TOP,\n",
    "            lr=params.LEARNING_RATE,\n",
    "            dataset=Path(dataset)\n",
    "\n",
    "        )\n",
    "        return training_config\n"
   ]
  },
  {
   "cell_type": "code",
   "execution_count": 7,
   "metadata": {},
   "outputs": [],
   "source": [
    "import tensorflow as tf\n",
    "import numpy as np \n",
    "from tensorflow.keras.preprocessing.image import ImageDataGenerator"
   ]
  },
  {
   "cell_type": "code",
   "execution_count": 29,
   "metadata": {},
   "outputs": [],
   "source": [
    "class Training:\n",
    "    def __init__(self, config: TrainingConfig):\n",
    "        self.config = config \n",
    "\n",
    "    def train_val_gen(self):\n",
    "        train_ds = os.path.join(self.config.dataset, \"train\")\n",
    "        val_ds = os.path.join(self.config.dataset, \"val\")\n",
    "        train_datagen = ImageDataGenerator(rescale=1./255, zoom_range=0.2,\n",
    "                                           shear_range=0.2, horizontal_flip=True)\n",
    "        val_datagen = ImageDataGenerator(rescale=1./255)\n",
    "        train_gen = train_datagen.flow_from_directory(train_ds,\n",
    "                                                      target_size=(self.config.imgsz,self.config.imgsz),\n",
    "                                                      class_mode='categorical')\n",
    "        val_gen = val_datagen.flow_from_directory(val_ds,\n",
    "                                                      target_size=(self.config.imgsz,self.config.imgsz),\n",
    "                                                      class_mode='categorical')\n",
    "        \n",
    "        return train_gen, val_gen\n",
    "    \n",
    "    def train(self):\n",
    "        base_model = tf.keras.applications.Xception(input_shape=(self.config.imgsz,self.config.imgsz,3),\n",
    "                                               include_top=self.config.include_top,\n",
    "                                               weights=self.config.weights)\n",
    "        base_model.trainable = False\n",
    "        model = tf.keras.Sequential([\n",
    "            base_model,\n",
    "            tf.keras.layers.GlobalAveragePooling2D(),\n",
    "            tf.keras.layers.Dense(64, activation='relu'),\n",
    "            tf.keras.layers.Dense(2, activation='softmax')\n",
    "        ])\n",
    "        model.compile(optimizer=tf.keras.optimizers.Adam(learning_rate=self.config.lr),\n",
    "                      loss = 'categorical_crossentropy',\n",
    "                      metrics=['accuracy'])\n",
    "        train_gen, val_gen = self.train_val_gen()\n",
    "        model.fit(train_gen, epochs=self.config.epochs,\n",
    "                  validation_data=val_gen,\n",
    "                  steps_per_epoch=len(train_gen)/self.config.batch_size,\n",
    "                  validation_steps=len(val_gen)/self.config.batch_size)\n",
    "        model.save(self.config.model_path)\n"
   ]
  },
  {
   "cell_type": "code",
   "execution_count": 30,
   "metadata": {},
   "outputs": [
    {
     "name": "stdout",
     "output_type": "stream",
     "text": [
      "[2024-01-26 14:31:14,101: INFO: common: yaml file: config/config.yaml loaded successfully]\n",
      "[2024-01-26 14:31:14,193: INFO: common: yaml file: params.yaml loaded successfully]\n",
      "[2024-01-26 14:31:14,195: INFO: common: created directory at: artifacts]\n",
      "[2024-01-26 14:31:14,240: INFO: common: created directory at: artifacts/training]\n",
      "Found 19290 images belonging to 2 classes.\n",
      "Found 5512 images belonging to 2 classes.\n"
     ]
    },
    {
     "name": "stderr",
     "output_type": "stream",
     "text": [
      "2024-01-26 14:31:24.719199: I tensorflow/core/common_runtime/executor.cc:1197] [/device:CPU:0] (DEBUG INFO) Executor start aborting (this does not indicate an error and you can ignore this message): INVALID_ARGUMENT: You must feed a value for placeholder tensor 'Placeholder/_0' with dtype int32\n",
      "\t [[{{node Placeholder/_0}}]]\n"
     ]
    },
    {
     "name": "stdout",
     "output_type": "stream",
     "text": [
      "38/37 [==============================] - ETA: -3s - loss: 0.3428 - accuracy: 0.8520"
     ]
    },
    {
     "name": "stderr",
     "output_type": "stream",
     "text": [
      "2024-01-26 14:39:32.924558: I tensorflow/core/common_runtime/executor.cc:1197] [/device:CPU:0] (DEBUG INFO) Executor start aborting (this does not indicate an error and you can ignore this message): INVALID_ARGUMENT: You must feed a value for placeholder tensor 'Placeholder/_0' with dtype int32\n",
      "\t [[{{node Placeholder/_0}}]]\n"
     ]
    },
    {
     "name": "stdout",
     "output_type": "stream",
     "text": [
      "37/37 [==============================] - 623s 17s/step - loss: 0.3428 - accuracy: 0.8520 - val_loss: 0.2380 - val_accuracy: 0.9034\n"
     ]
    }
   ],
   "source": [
    "try:\n",
    "    config = ConfigurationManager()\n",
    "    train_config = config.get_training_config()\n",
    "    training = Training(config=train_config)\n",
    "    training.train()\n",
    "except Exception as e:\n",
    "    raise e"
   ]
  }
 ],
 "metadata": {
  "kernelspec": {
   "display_name": "malaria",
   "language": "python",
   "name": "python3"
  },
  "language_info": {
   "codemirror_mode": {
    "name": "ipython",
    "version": 3
   },
   "file_extension": ".py",
   "mimetype": "text/x-python",
   "name": "python",
   "nbconvert_exporter": "python",
   "pygments_lexer": "ipython3",
   "version": "3.10.12"
  }
 },
 "nbformat": 4,
 "nbformat_minor": 2
}
